{
 "cells": [
  {
   "cell_type": "markdown",
   "metadata": {
    "collapsed": true
   },
   "source": [
    "# Tranforming and Joining Data"
   ]
  },
  {
   "cell_type": "markdown",
   "metadata": {},
   "source": [
    "## Importing packages"
   ]
  },
  {
   "cell_type": "code",
   "execution_count": 30,
   "metadata": {},
   "outputs": [],
   "source": [
    "import pandas as pd\n",
    "import matplotlib\n",
    "import numpy\n",
    "import pathlib as path"
   ]
  },
  {
   "cell_type": "markdown",
   "metadata": {},
   "source": [
    "## Importing Files"
   ]
  },
  {
   "cell_type": "code",
   "execution_count": 31,
   "metadata": {},
   "outputs": [],
   "source": [
    "rel_path = path.Path().absolute()\n",
    "#2016 Data\n",
    "t1_16 = pd.read_csv(str(rel_path) + r\"\\Data\\raw_data\\2016-table1.tsv\", sep='\\t')\n",
    "t3_16 = pd.read_csv(str(rel_path) + r\"\\Data\\raw_data\\2016-table3.tsv\", sep='\\t')\n",
    "t4_16 = pd.read_csv(str(rel_path) + r\"\\Data\\raw_data\\2016-table4.tsv\", sep='\\t')\n",
    "t5_16 = pd.read_csv(str(rel_path) + r\"\\Data\\raw_data\\2016-table5.tsv\", sep='\\t')\n",
    "t6_16 = pd.read_csv(str(rel_path) + r\"\\Data\\raw_data\\2016-table6.tsv\", sep='\\t')\n",
    "\n",
    "#2017 Data\n",
    "t1_17 = pd.read_csv(str(rel_path) + r\"\\Data\\raw_data\\2017-table1.tsv\", sep='\\t')\n",
    "t3_17 = pd.read_csv(str(rel_path) + r\"\\Data\\raw_data\\2017-table3.tsv\", sep='\\t')\n",
    "t4_17 = pd.read_csv(str(rel_path) + r\"\\Data\\raw_data\\2017-table4.tsv\", sep='\\t')\n",
    "t5_17 = pd.read_csv(str(rel_path) + r\"\\Data\\raw_data\\2017-table5.tsv\", sep='\\t')\n",
    "t6_17 = pd.read_csv(str(rel_path) + r\"\\Data\\raw_data\\2017-table6.tsv\", sep='\\t')\n",
    "\n",
    "#2018 Data\n",
    "t1_18 = pd.read_csv(str(rel_path) + r\"\\Data\\raw_data\\2018-table1.tsv\", sep='\\t')\n",
    "t3_18 = pd.read_csv(str(rel_path) + r\"\\Data\\raw_data\\2018-table3.tsv\", sep='\\t')\n",
    "t4_18 = pd.read_csv(str(rel_path) + r\"\\Data\\raw_data\\2018-table4.tsv\", sep='\\t')\n",
    "t5_18 = pd.read_csv(str(rel_path) + r\"\\Data\\raw_data\\2018-table5.tsv\", sep='\\t')\n",
    "t6_18 = pd.read_csv(str(rel_path) + r\"\\Data\\raw_data\\2018-table6.tsv\", sep='\\t')"
   ]
  },
  {
   "cell_type": "markdown",
   "metadata": {},
   "source": [
    "## Cleaning Data"
   ]
  },
  {
   "cell_type": "markdown",
   "metadata": {},
   "source": [
    "## Adding Years"
   ]
  },
  {
   "cell_type": "code",
   "execution_count": 32,
   "metadata": {},
   "outputs": [],
   "source": [
    "#2016 Data\n",
    "t1_16['Year'] = 2016\n",
    "t3_16['Year'] = 2016\n",
    "t4_16['Year'] = 2016\n",
    "t5_16['Year'] = 2016\n",
    "t6_16['Year'] = 2016\n",
    "#2017 Data\n",
    "t1_17['Year'] = 2017\n",
    "t3_17['Year'] = 2017\n",
    "t4_17['Year'] = 2017\n",
    "t5_17['Year'] = 2017\n",
    "t6_17['Year'] = 2017\n",
    "#2018 Data\n",
    "t1_18['Year'] = 2018\n",
    "t3_18['Year'] = 2018\n",
    "t4_18['Year'] = 2018\n",
    "t5_18['Year'] = 2018\n",
    "t6_18['Year'] = 2018"
   ]
  },
  {
   "cell_type": "markdown",
   "metadata": {},
   "source": [
    "### Replacing  '—' with 0"
   ]
  },
  {
   "cell_type": "code",
   "execution_count": 33,
   "metadata": {},
   "outputs": [],
   "source": [
    "#2016\n",
    "t1_16 = t1_16.replace('—', 0)\n",
    "t3_16 = t3_16.replace('—', 0)\n",
    "t4_16 = t4_16.replace('—', 0)\n",
    "t5_16 = t5_16.replace('—', 0)\n",
    "t6_16 = t6_16.replace('—', 0)\n",
    "#2017\n",
    "t1_17 = t1_17.replace('—', 0)\n",
    "t3_17 = t3_17.replace('—', 0)\n",
    "t4_17 = t4_17.replace('—', 0)\n",
    "t5_17 = t5_17.replace('—', 0)\n",
    "t6_17 = t6_17.replace('—', 0)\n",
    "#2018\n",
    "t1_18 = t1_18.replace('—', 0)\n",
    "t3_18 = t3_18.replace('—', 0)\n",
    "t4_18 = t4_18.replace('—', 0)\n",
    "t5_18 = t5_18.replace('—', 0)\n",
    "t6_18 = t6_18.replace('—', 0)\n"
   ]
  },
  {
   "cell_type": "markdown",
   "metadata": {},
   "source": [
    "### Removing Extraneous Symbols from Disease Names"
   ]
  },
  {
   "cell_type": "code",
   "execution_count": 34,
   "metadata": {},
   "outputs": [],
   "source": [
    "#2016\n",
    "t1_16[\"Disease\"] = t1_16[\"Disease\"].str.rstrip('.!?§*,¶† \\n\\t')\n",
    "t3_16[\"Disease\"] = t3_16[\"Disease\"].str.rstrip('.!?§*,¶† \\n\\t')\n",
    "t4_16[\"Disease\"] = t4_16[\"Disease\"].str.rstrip('.!?§*,¶† \\n\\t')\n",
    "t5_16[\"Disease\"] = t5_16[\"Disease\"].str.rstrip('.!?§*,¶† \\n\\t')\n",
    "t6_16[\"Disease\"] = t6_16[\"Disease\"].str.rstrip('.!?§*,¶† \\n\\t')\n",
    "\n",
    "#2017\n",
    "t1_17[\"Disease\"] = t1_17[\"Disease\"].str.rstrip('.!?§*,¶† \\n\\t')\n",
    "t3_17[\"Disease\"] = t3_17[\"Disease\"].str.rstrip('.!?§*,¶† \\n\\t')\n",
    "t4_17[\"Disease\"] = t4_17[\"Disease\"].str.rstrip('.!?§*,¶† \\n\\t')\n",
    "t5_17[\"Disease\"] = t5_17[\"Disease\"].str.rstrip('.!?§*,¶† \\n\\t')\n",
    "t6_17[\"Disease\"] = t6_17[\"Disease\"].str.rstrip('.!?§*,¶† \\n\\t')\n",
    "\n",
    "#2018\n",
    "t1_18[\"Disease\"] = t1_18[\"Disease\"].str.rstrip('.!?§*,¶† \\n\\t')\n",
    "t3_18[\"Disease\"] = t3_18[\"Disease\"].str.rstrip('.!?§*,¶† \\n\\t')\n",
    "t4_18[\"Disease\"] = t4_18[\"Disease\"].str.rstrip('.!?§*,¶† \\n\\t')\n",
    "t5_18[\"Disease\"] = t5_18[\"Disease\"].str.rstrip('.!?§*,¶† \\n\\t')\n",
    "t6_18[\"Disease\"] = t6_18[\"Disease\"].str.rstrip('.!?§*,¶† \\n\\t')"
   ]
  },
  {
   "cell_type": "markdown",
   "metadata": {},
   "source": [
    "## Joining Files by Year"
   ]
  },
  {
   "cell_type": "code",
   "execution_count": 35,
   "metadata": {},
   "outputs": [],
   "source": [
    "# Joining 2016\n",
    "t16 = t1_16.merge(t3_16, left_on = ['Disease', 'Year', 'Case Count'], right_on = ['Disease', 'Year', 'Total'])\n",
    "# pd.concat([t16[\"Disease\"],t4_16[\"Disease\"]]).drop_duplicates(keep=False)\n",
    "del t16['Total']\n",
    "t16 = t16.merge(t4_16, left_on = ['Disease', 'Year', 'Case Count'], right_on = ['Disease', 'Year', 'Total, No.'])\n",
    "del t16['Total, No.']\n",
    "t16 = t16.merge(t5_16, left_on = ['Disease', 'Year', 'Case Count'], right_on = ['Disease', 'Year', 'Total, No.'])\n",
    "del t16['Total, No.']\n",
    "t16 = t16.merge(t6_16, left_on = ['Disease', 'Year', 'Case Count'], right_on = ['Disease', 'Year', 'Total'])\n",
    "del t16['Total']\n",
    "\n",
    "# Joining 2017\n",
    "t17 = t1_17.merge(t3_17, left_on = ['Disease', 'Year', 'Case Count'], right_on = ['Disease', 'Year', 'Total'])\n",
    "del t17['Total']\n",
    "t17 = t17.merge(t4_17, left_on = ['Disease', 'Year', 'Case Count'], right_on = ['Disease', 'Year', 'Total, No.'])\n",
    "del t17['Total, No.']\n",
    "t17 = t17.merge(t5_17, left_on = ['Disease', 'Year', 'Case Count'], right_on = ['Disease', 'Year', 'Total, No.'])\n",
    "del t17['Total, No.']\n",
    "t17 = t17.merge(t6_17, left_on = ['Disease', 'Year', 'Case Count'], right_on = ['Disease', 'Year', 'Total'])\n",
    "del t17['Total']\n",
    "\n",
    "# Joining 2018\n",
    "t18 = t1_18.merge(t3_18, left_on = ['Disease', 'Year', 'Case Count'], right_on = ['Disease', 'Year', 'Total'])\n",
    "del t18['Total']\n",
    "t18 = t18.merge(t4_18, left_on = ['Disease', 'Year', 'Case Count'], right_on = ['Disease', 'Year', 'Total, No.'])\n",
    "del t18['Total, No.']\n",
    "t18 = t18.merge(t5_18, left_on = ['Disease', 'Year', 'Case Count'], right_on = ['Disease', 'Year', 'Total, No.'])\n",
    "del t18['Total, No.']\n",
    "t18 = t18.merge(t6_18, left_on = ['Disease', 'Year', 'Case Count'], right_on = ['Disease', 'Year', 'Total'])\n",
    "del t18['Total']\n"
   ]
  },
  {
   "cell_type": "markdown",
   "metadata": {},
   "source": [
    "## Building Master Set"
   ]
  },
  {
   "cell_type": "code",
   "execution_count": 36,
   "metadata": {
    "scrolled": true
   },
   "outputs": [],
   "source": [
    "m = pd.concat([t16, t17, t18])"
   ]
  },
  {
   "cell_type": "markdown",
   "metadata": {},
   "source": [
    "## Building Date-Based Table"
   ]
  },
  {
   "cell_type": "code",
   "execution_count": 37,
   "metadata": {
    "scrolled": true
   },
   "outputs": [],
   "source": [
    "# Copying Data\n",
    "date_16 = t3_16.copy()\n",
    "date_17 = t3_17.copy()\n",
    "date_18 = t3_18.copy()\n",
    "# Delete Unneccesary Columns\n",
    "del date_16['Unknown']\n",
    "del date_16['Total']\n",
    "del date_17['Unknown']\n",
    "del date_17['Total']\n",
    "del date_18['Unknown']\n",
    "del date_18['Total']\n",
    "\n",
    "date_16 = date_16.melt(id_vars=['Disease', 'Year'], var_name = 'Month', value_name = \"Count\")\n",
    "date_17 = date_17.melt(id_vars=['Disease', 'Year'], var_name = 'Month', value_name = \"Count\")\n",
    "date_18 = date_18.melt(id_vars=['Disease', 'Year'], var_name = 'Month', value_name = \"Count\")\n",
    "\n",
    "month_mapping = {'Jan.': 1,\n",
    "                 'Feb.': 2,\n",
    "                 'Mar.': 3,\n",
    "                 'Apr.': 4,\n",
    "                 'May': 5,\n",
    "                 'June': 6,\n",
    "                 'July': 7,\n",
    "                 'Aug.': 8,\n",
    "                 'Sept.': 9,\n",
    "                 'Oct.': 10,\n",
    "                 'Nov.': 11,\n",
    "                 'Dec.': 12,\n",
    "                }\n",
    "\n",
    "d = pd.concat([date_16, date_17, date_18])\n",
    "d['Numerical_Month'] = d['Month'].map(month_mapping)"
   ]
  },
  {
   "cell_type": "markdown",
   "metadata": {},
   "source": [
    "## Getting Sorted List of Diseases by Case Count"
   ]
  },
  {
   "cell_type": "code",
   "execution_count": 38,
   "metadata": {},
   "outputs": [],
   "source": [
    "# m.sort_values('Rate')\n",
    "sorted_disease = m.copy()\n",
    "sorted_disease['Case Count'] = sorted_disease['Case Count'].replace(',','', regex=True)\n",
    "sorted_disease['Case Count'] = pd.to_numeric(sorted_disease['Case Count'])\n",
    "sorted_disease['Rate_sum'] = sorted_disease.groupby('Disease')['Case Count'].transform(sum)\n",
    "sorted_disease = sorted_disease.sort_values(['Rate_sum'], ascending= False)[['Disease', \"Rate_sum\"]].drop_duplicates()"
   ]
  },
  {
   "cell_type": "markdown",
   "metadata": {},
   "source": [
    "# Exporting Data"
   ]
  },
  {
   "cell_type": "code",
   "execution_count": 39,
   "metadata": {},
   "outputs": [],
   "source": [
    "m.to_csv(str(rel_path) + r'\\Data\\master.csv')\n",
    "d.to_csv(str(rel_path) + r'\\..\\src\\dated.csv')\n",
    "sorted_disease.to_csv(str(rel_path) + r'\\Data\\sorted.csv')"
   ]
  },
  {
   "cell_type": "code",
   "execution_count": 40,
   "metadata": {},
   "outputs": [],
   "source": [
    "# export another veresion without \", Confirmed\" or \", Probable\" in the disease name field\n",
    "trimmed_sorted_disease = sorted_disease[~sorted_disease.Disease.str.contains(', Probable')]\n",
    "trimmed_sorted_disease = trimmed_sorted_disease[~trimmed_sorted_disease.Disease.str.contains(', Confirmed')]\n",
    "trimmed_sorted_disease.to_csv(str(rel_path) + r'\\Data\\trimmed_sorted.csv')"
   ]
  }
 ],
 "metadata": {
  "kernelspec": {
   "display_name": "Python 3",
   "language": "python",
   "name": "python3"
  },
  "language_info": {
   "codemirror_mode": {
    "name": "ipython",
    "version": 3
   },
   "file_extension": ".py",
   "mimetype": "text/x-python",
   "name": "python",
   "nbconvert_exporter": "python",
   "pygments_lexer": "ipython3",
   "version": "3.7.2"
  }
 },
 "nbformat": 4,
 "nbformat_minor": 1
}
